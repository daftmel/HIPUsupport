{
 "cells": [
  {
   "cell_type": "markdown",
   "metadata": {},
   "source": [
    "# Drug Pages QA Generator\n",
    "Generate HTML pages for QA of drug vendor monthly update\n",
    "\n",
    "Melanie Huston<br>\n",
    "August 2017"
   ]
  },
  {
   "cell_type": "code",
   "execution_count": 149,
   "metadata": {
    "collapsed": false
   },
   "outputs": [],
   "source": [
    "from os.path import basename\n",
    "from bs4 import BeautifulSoup\n",
    "import re\n",
    "import datetime\n",
    "import calendar\n",
    "import io"
   ]
  },
  {
   "cell_type": "markdown",
   "metadata": {},
   "source": [
    "## Report source filenames and QA environment\n",
    "Change these file paths and names here if the current month's filenames or locations are different<br>\n",
    "Change the QA environment number if different"
   ]
  },
  {
   "cell_type": "code",
   "execution_count": 150,
   "metadata": {
    "collapsed": true
   },
   "outputs": [],
   "source": [
    "# Report source filenames\n",
    "drugreportfile = 'MonthlyUpdate.htm' # from drug monthly vendor email\n",
    "connectreportfile = 'M+Connect_drug_update_report.htm' # from OCCS\n",
    "# QA environment prefix\n",
    "qaenglish = 'http://qa.medlineplus.gov/qa1/druginfo/meds/'\n",
    "qaspanish = 'http://qa.medlineplus.gov/qa1/spanish/druginfo/meds/'"
   ]
  },
  {
   "cell_type": "code",
   "execution_count": 151,
   "metadata": {
    "collapsed": false
   },
   "outputs": [],
   "source": [
    "# Get month and year for report date and output filename\n",
    "# Allow time for current month report to be run up to the 15th of the next month\n",
    "nowdate = datetime.datetime.now()\n",
    "nowyear = nowdate.year\n",
    "nowmonth = nowdate.month\n",
    "if nowdate.day < 16:\n",
    "    nowmonth -= 1\n",
    "monthname = calendar.month_name[nowmonth]\n",
    "\n",
    "reportdate = monthname + \" \" + str(nowyear)\n",
    "reportfilename = \"DrugPages_QAReport_\" + monthname + str(nowyear) + \".html\""
   ]
  },
  {
   "cell_type": "code",
   "execution_count": 152,
   "metadata": {
    "collapsed": true
   },
   "outputs": [],
   "source": [
    "# Start writing the html file for reporting and link checking\n",
    "outputfile = open(reportfilename,'w')\n",
    "\n",
    "outputfile.write(\"<!doctype html><html><head><meta charset=\\\"utf-8\\\"><title>Drug Pages QA for \")\n",
    "outputfile.write(reportdate)\n",
    "outputfile.write(\"</title></head><body><h1>Drug Pages QA Report for \")\n",
    "outputfile.write(reportdate)\n",
    "outputfile.write(\" Update</h1>\")"
   ]
  },
  {
   "cell_type": "code",
   "execution_count": 153,
   "metadata": {
    "collapsed": false
   },
   "outputs": [],
   "source": [
    "# Get and parse HTML from the drug's monthly report\n",
    "\n",
    "with open(drugreportfile, \"r\") as f:\n",
    "    report = f.read()\n",
    "f.close()\n",
    "\n",
    "soup = BeautifulSoup(report, 'html.parser')"
   ]
  },
  {
   "cell_type": "code",
   "execution_count": 154,
   "metadata": {
    "collapsed": true
   },
   "outputs": [],
   "source": [
    "# Look for these headings in the drug's monthly report\n",
    "headinglist = [\"New English Monographs\",\"Revised English Monographs\",\n",
    "               \"New Spanish Monographs\",\"Revised Spanish Monographs\", \n",
    "               \"Discontinued Monographs\"]"
   ]
  },
  {
   "cell_type": "code",
   "execution_count": 155,
   "metadata": {
    "collapsed": false
   },
   "outputs": [],
   "source": [
    "# find all list items containing a link to a health topic\n",
    "HTcrawl = soup.find_all('p')\n",
    "enctr = 0\n",
    "spctr = 0\n",
    "\n",
    "for paragraph in HTcrawl:\n",
    "    #remove line breaks from the text\n",
    "    ptext = re.sub(\"[\\r\\n]+\", \" \", paragraph.text)\n",
    "    ptext = ptext.encode('utf-8')\n",
    "\n",
    "    #if it equals the heading, write the heading to the html file\n",
    "    if ptext in headinglist:\n",
    "        outputfile.write(\"<h2>\" + ptext + \"</h2><p>\")\n",
    "        enctr = 0\n",
    "        spctr = 0\n",
    "\n",
    "    #else if it matches a spanish monograph entry, write a checkable link to the html file\n",
    "    elif re.match(\"\\\"a\\d{6}\\-es\\\".*\", ptext):\n",
    "        spctr += 1\n",
    "        spanishmonograph = re.match(\"\\\"(?P<monnbr>a\\d{6}\\-es)\\\",\\\"(?P<monname>.*)\\\",.*\", ptext)\n",
    "        spmonnbr = spanishmonograph.group('monnbr')\n",
    "        spmonname = spanishmonograph.group('monname')\n",
    "        outputfile.write(str(spctr) + \". \" + \"<a href=\\\"\" + qaspanish + spmonnbr + \".html\\\">\" \n",
    "                         + spmonnbr + \" | \" + spmonname + \"</a><br>\")\n",
    "\n",
    "    #else if it matches an english monograph entry, write a checkable link to the html file\n",
    "    elif re.match(\"\\\"a\\d{6}\\\".*\", ptext):\n",
    "        enctr += 1\n",
    "        englishmonograph = re.match(\"\\\"(?P<monnbr>a\\d{6})\\\",\\\"(?P<monname>.*)\\\",.*\", ptext)       \n",
    "        engmonnbr = englishmonograph.group('monnbr')\n",
    "        engmonname = englishmonograph.group('monname')\n",
    "        outputfile.write(str(enctr) + \". \" + \"<a href=\\\"\" + qaenglish + engmonnbr + \".html\\\">\" \n",
    "                         + engmonnbr + \" | \" + engmonname + \"</a><br>\")\n",
    "\n",
    "    #else if it matches \"none\", write that to the file\n",
    "    elif re.match(\".*[Nn]one.*\", ptext):\n",
    "        outputfile.write(\"None reported.<br>\")\n",
    "\n",
    "outputfile.write(\"</p>\")"
   ]
  },
  {
   "cell_type": "code",
   "execution_count": 156,
   "metadata": {
    "collapsed": false
   },
   "outputs": [],
   "source": [
    "outputfile.write(\"</body></html>\")\n",
    "outputfile.close()"
   ]
  }
 ],
 "metadata": {
  "kernelspec": {
   "display_name": "Python [default]",
   "language": "python",
   "name": "python2"
  },
  "language_info": {
   "codemirror_mode": {
    "name": "ipython",
    "version": 2
   },
   "file_extension": ".py",
   "mimetype": "text/x-python",
   "name": "python",
   "nbconvert_exporter": "python",
   "pygments_lexer": "ipython2",
   "version": "2.7.13"
  }
 },
 "nbformat": 4,
 "nbformat_minor": 2
}
